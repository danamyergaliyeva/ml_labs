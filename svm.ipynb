{
  "nbformat": 4,
  "nbformat_minor": 0,
  "metadata": {
    "kernelspec": {
      "display_name": "Python 3",
      "language": "python",
      "name": "python3"
    },
    "language_info": {
      "codemirror_mode": {
        "name": "ipython",
        "version": 3
      },
      "file_extension": ".py",
      "mimetype": "text/x-python",
      "name": "python",
      "nbconvert_exporter": "python",
      "pygments_lexer": "ipython3",
      "version": "3.7.4"
    },
    "colab": {
      "name": "svm.ipynb",
      "provenance": [],
      "include_colab_link": true
    }
  },
  "cells": [
    {
      "cell_type": "markdown",
      "metadata": {
        "id": "view-in-github",
        "colab_type": "text"
      },
      "source": [
        "<a href=\"https://colab.research.google.com/github/danamyergaliyeva/ml_labs/blob/master/svm.ipynb\" target=\"_parent\"><img src=\"https://colab.research.google.com/assets/colab-badge.svg\" alt=\"Open In Colab\"/></a>"
      ]
    },
    {
      "cell_type": "code",
      "metadata": {
        "id": "Q7gD_QZzT5_T",
        "colab_type": "code",
        "colab": {}
      },
      "source": [
        "import numpy as np\n",
        "import pandas as pd\n",
        "import seaborn as sb\n",
        "from sklearn.model_selection import train_test_split\n",
        "from sklearn.svm import SVC"
      ],
      "execution_count": 0,
      "outputs": []
    },
    {
      "cell_type": "code",
      "metadata": {
        "id": "tqt67zOPT5_Y",
        "colab_type": "code",
        "colab": {}
      },
      "source": [
        "iris = sb.load_dataset('iris')\n",
        "irisX = iris.iloc[:,:-1]\n",
        "irisY = iris.iloc[:,4]"
      ],
      "execution_count": 0,
      "outputs": []
    },
    {
      "cell_type": "code",
      "metadata": {
        "id": "6uJ2IPRjT5_b",
        "colab_type": "code",
        "colab": {}
      },
      "source": [
        "irisX_train,irisX_test,irisY_train,irisY_test = train_test_split(irisX, irisY, test_size = 0.1)"
      ],
      "execution_count": 0,
      "outputs": []
    },
    {
      "cell_type": "code",
      "metadata": {
        "id": "SnSHhSAJT5_e",
        "colab_type": "code",
        "outputId": "32c1d140-9fc0-4c0b-8c35-231045658974",
        "colab": {
          "base_uri": "https://localhost:8080/",
          "height": 85
        }
      },
      "source": [
        "SVM = SVC(gamma='auto')\n",
        "SVM.fit(irisX_train, irisY_train)"
      ],
      "execution_count": 0,
      "outputs": [
        {
          "output_type": "execute_result",
          "data": {
            "text/plain": [
              "SVC(C=1.0, cache_size=200, class_weight=None, coef0=0.0,\n",
              "    decision_function_shape='ovr', degree=3, gamma='auto', kernel='rbf',\n",
              "    max_iter=-1, probability=False, random_state=None, shrinking=True,\n",
              "    tol=0.001, verbose=False)"
            ]
          },
          "metadata": {
            "tags": []
          },
          "execution_count": 4
        }
      ]
    },
    {
      "cell_type": "code",
      "metadata": {
        "id": "OFLNeqc9T5_i",
        "colab_type": "code",
        "outputId": "1198f576-f9b8-4634-ec11-6a283cb08ef5",
        "colab": {
          "base_uri": "https://localhost:8080/",
          "height": 340
        }
      },
      "source": [
        "SVM_predict = SVM.predict(irisX_test)\n",
        "print (SVM_predict)\n",
        "print (irisY_test)"
      ],
      "execution_count": 0,
      "outputs": [
        {
          "output_type": "stream",
          "text": [
            "['versicolor' 'virginica' 'setosa' 'virginica' 'versicolor' 'virginica'\n",
            " 'setosa' 'versicolor' 'setosa' 'virginica' 'versicolor' 'virginica'\n",
            " 'versicolor' 'versicolor' 'virginica']\n",
            "78     versicolor\n",
            "105     virginica\n",
            "40         setosa\n",
            "143     virginica\n",
            "64     versicolor\n",
            "100     virginica\n",
            "47         setosa\n",
            "72     versicolor\n",
            "20         setosa\n",
            "128     virginica\n",
            "55     versicolor\n",
            "101     virginica\n",
            "93     versicolor\n",
            "51     versicolor\n",
            "102     virginica\n",
            "Name: species, dtype: object\n"
          ],
          "name": "stdout"
        }
      ]
    }
  ]
}