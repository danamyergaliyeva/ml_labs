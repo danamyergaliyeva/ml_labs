{
  "nbformat": 4,
  "nbformat_minor": 0,
  "metadata": {
    "colab": {
      "name": "BostonLinear.ipynb",
      "provenance": [],
      "include_colab_link": true
    },
    "kernelspec": {
      "name": "python3",
      "display_name": "Python 3"
    }
  },
  "cells": [
    {
      "cell_type": "markdown",
      "metadata": {
        "id": "view-in-github",
        "colab_type": "text"
      },
      "source": [
        "<a href=\"https://colab.research.google.com/github/danamyergaliyeva/ml_labs/blob/master/BostonLinear.ipynb\" target=\"_parent\"><img src=\"https://colab.research.google.com/assets/colab-badge.svg\" alt=\"Open In Colab\"/></a>"
      ]
    },
    {
      "cell_type": "code",
      "metadata": {
        "id": "D6lBG5mZczmW",
        "colab_type": "code",
        "colab": {}
      },
      "source": [
        "import numpy as np\n",
        "import pandas as pd\n",
        "from numpy.linalg import inv\n",
        "from sklearn.datasets import load_boston\n",
        "from statsmodels.regression.linear_model import OLS"
      ],
      "execution_count": 0,
      "outputs": []
    },
    {
      "cell_type": "code",
      "metadata": {
        "id": "HY93_MJRc0JT",
        "colab_type": "code",
        "outputId": "3ef2adbb-e457-4bc3-f2a5-1049d22e0c5c",
        "colab": {
          "base_uri": "https://localhost:8080/",
          "height": 34
        }
      },
      "source": [
        "# load the boston data set\n",
        "boston = load_boston()\n",
        "\n",
        "# obtain the feature matrix as a numpy array\n",
        "X = boston.data\n",
        "\n",
        "# obtain the target variable as a numpy array\n",
        "y = boston.target\n",
        "\n",
        "print(X.shape)"
      ],
      "execution_count": 0,
      "outputs": [
        {
          "output_type": "stream",
          "text": [
            "(506, 13)\n"
          ],
          "name": "stdout"
        }
      ]
    },
    {
      "cell_type": "code",
      "metadata": {
        "id": "CWpfairac3_A",
        "colab_type": "code",
        "outputId": "b71d71c0-585e-4f34-89a4-a5a45ad3e183",
        "colab": {
          "base_uri": "https://localhost:8080/",
          "height": 938
        }
      },
      "source": [
        "feature_names = boston.feature_names\n",
        "print(feature_names)\n",
        "print(boston.DESCR)"
      ],
      "execution_count": 0,
      "outputs": [
        {
          "output_type": "stream",
          "text": [
            "['CRIM' 'ZN' 'INDUS' 'CHAS' 'NOX' 'RM' 'AGE' 'DIS' 'RAD' 'TAX' 'PTRATIO'\n",
            " 'B' 'LSTAT']\n",
            ".. _boston_dataset:\n",
            "\n",
            "Boston house prices dataset\n",
            "---------------------------\n",
            "\n",
            "**Data Set Characteristics:**  \n",
            "\n",
            "    :Number of Instances: 506 \n",
            "\n",
            "    :Number of Attributes: 13 numeric/categorical predictive. Median Value (attribute 14) is usually the target.\n",
            "\n",
            "    :Attribute Information (in order):\n",
            "        - CRIM     per capita crime rate by town\n",
            "        - ZN       proportion of residential land zoned for lots over 25,000 sq.ft.\n",
            "        - INDUS    proportion of non-retail business acres per town\n",
            "        - CHAS     Charles River dummy variable (= 1 if tract bounds river; 0 otherwise)\n",
            "        - NOX      nitric oxides concentration (parts per 10 million)\n",
            "        - RM       average number of rooms per dwelling\n",
            "        - AGE      proportion of owner-occupied units built prior to 1940\n",
            "        - DIS      weighted distances to five Boston employment centres\n",
            "        - RAD      index of accessibility to radial highways\n",
            "        - TAX      full-value property-tax rate per $10,000\n",
            "        - PTRATIO  pupil-teacher ratio by town\n",
            "        - B        1000(Bk - 0.63)^2 where Bk is the proportion of blacks by town\n",
            "        - LSTAT    % lower status of the population\n",
            "        - MEDV     Median value of owner-occupied homes in $1000's\n",
            "\n",
            "    :Missing Attribute Values: None\n",
            "\n",
            "    :Creator: Harrison, D. and Rubinfeld, D.L.\n",
            "\n",
            "This is a copy of UCI ML housing dataset.\n",
            "https://archive.ics.uci.edu/ml/machine-learning-databases/housing/\n",
            "\n",
            "\n",
            "This dataset was taken from the StatLib library which is maintained at Carnegie Mellon University.\n",
            "\n",
            "The Boston house-price data of Harrison, D. and Rubinfeld, D.L. 'Hedonic\n",
            "prices and the demand for clean air', J. Environ. Economics & Management,\n",
            "vol.5, 81-102, 1978.   Used in Belsley, Kuh & Welsch, 'Regression diagnostics\n",
            "...', Wiley, 1980.   N.B. Various transformations are used in the table on\n",
            "pages 244-261 of the latter.\n",
            "\n",
            "The Boston house-price data has been used in many machine learning papers that address regression\n",
            "problems.   \n",
            "     \n",
            ".. topic:: References\n",
            "\n",
            "   - Belsley, Kuh & Welsch, 'Regression diagnostics: Identifying Influential Data and Sources of Collinearity', Wiley, 1980. 244-261.\n",
            "   - Quinlan,R. (1993). Combining Instance-Based and Model-Based Learning. In Proceedings on the Tenth International Conference of Machine Learning, 236-243, University of Massachusetts, Amherst. Morgan Kaufmann.\n",
            "\n"
          ],
          "name": "stdout"
        }
      ]
    },
    {
      "cell_type": "code",
      "metadata": {
        "id": "UTBhexUHc7Mr",
        "colab_type": "code",
        "colab": {}
      },
      "source": [
        "# create vector of ones...\n",
        "int = np.ones(shape=y.shape)[..., None]\n",
        "\n",
        "#...and add to feature matrix\n",
        "X = np.concatenate((int, X), 1)"
      ],
      "execution_count": 0,
      "outputs": []
    },
    {
      "cell_type": "code",
      "metadata": {
        "id": "hRpRQ4nLdBoo",
        "colab_type": "code",
        "colab": {}
      },
      "source": [
        "# calculate coefficients using closed-form solution\n",
        "coeffs = inv(X.transpose().dot(X)).dot(X.transpose()).dot(y)"
      ],
      "execution_count": 0,
      "outputs": []
    },
    {
      "cell_type": "code",
      "metadata": {
        "id": "tp18Hg23dEAn",
        "colab_type": "code",
        "outputId": "f9806480-abfd-4ad6-ca78-81f4fec2d5ef",
        "colab": {
          "base_uri": "https://localhost:8080/",
          "height": 272
        }
      },
      "source": [
        "# extract the feature names of the boston data set and prepend the intercept\n",
        "feature_names = np.insert(boston.feature_names, 0, 'INT')\n",
        "\n",
        "# collect results into a DataFrame for pretty printing\n",
        "results = pd.DataFrame({'coeffs':coeffs}, index=feature_names)\n",
        "\n",
        "print(results.round(2))"
      ],
      "execution_count": 0,
      "outputs": [
        {
          "output_type": "stream",
          "text": [
            "         coeffs\n",
            "INT       36.46\n",
            "CRIM      -0.11\n",
            "ZN         0.05\n",
            "INDUS      0.02\n",
            "CHAS       2.69\n",
            "NOX      -17.77\n",
            "RM         3.81\n",
            "AGE        0.00\n",
            "DIS       -1.48\n",
            "RAD        0.31\n",
            "TAX       -0.01\n",
            "PTRATIO   -0.95\n",
            "B          0.01\n",
            "LSTAT     -0.52\n"
          ],
          "name": "stdout"
        }
      ]
    },
    {
      "cell_type": "code",
      "metadata": {
        "id": "ycbD34vidGlO",
        "colab_type": "code",
        "colab": {}
      },
      "source": [
        "# create a linear model and extract the parameters\n",
        "coeffs_lm = OLS(y, X).fit().params"
      ],
      "execution_count": 0,
      "outputs": []
    },
    {
      "cell_type": "code",
      "metadata": {
        "id": "t_PJTu2ldJBi",
        "colab_type": "code",
        "outputId": "abbd4346-07e7-4add-fb26-0d78b941c3ab",
        "colab": {
          "base_uri": "https://localhost:8080/",
          "height": 272
        }
      },
      "source": [
        "results['coeffs_lm'] = coeffs_lm\n",
        "\n",
        "print(results.round(2))"
      ],
      "execution_count": 0,
      "outputs": [
        {
          "output_type": "stream",
          "text": [
            "         coeffs  coeffs_lm\n",
            "INT       36.46      36.46\n",
            "CRIM      -0.11      -0.11\n",
            "ZN         0.05       0.05\n",
            "INDUS      0.02       0.02\n",
            "CHAS       2.69       2.69\n",
            "NOX      -17.77     -17.77\n",
            "RM         3.81       3.81\n",
            "AGE        0.00       0.00\n",
            "DIS       -1.48      -1.48\n",
            "RAD        0.31       0.31\n",
            "TAX       -0.01      -0.01\n",
            "PTRATIO   -0.95      -0.95\n",
            "B          0.01       0.01\n",
            "LSTAT     -0.52      -0.52\n"
          ],
          "name": "stdout"
        }
      ]
    },
    {
      "cell_type": "code",
      "metadata": {
        "id": "IoKHJYJYdLPZ",
        "colab_type": "code",
        "colab": {}
      },
      "source": [
        ""
      ],
      "execution_count": 0,
      "outputs": []
    }
  ]
}